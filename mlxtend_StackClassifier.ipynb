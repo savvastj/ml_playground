{
 "cells": [
  {
   "cell_type": "code",
   "execution_count": 1,
   "metadata": {
    "collapsed": true
   },
   "outputs": [],
   "source": [
    "from sklearn.datasets import load_iris\n",
    "from mlxtend.classifier import StackingCVClassifier\n",
    "from mlxtend.feature_selection import ColumnSelector\n",
    "from sklearn.pipeline import make_pipeline\n",
    "from sklearn.linear_model import LogisticRegression"
   ]
  },
  {
   "cell_type": "code",
   "execution_count": 2,
   "metadata": {
    "collapsed": true
   },
   "outputs": [],
   "source": [
    "iris = load_iris()\n",
    "X = iris.data\n",
    "y = iris.target"
   ]
  },
  {
   "cell_type": "code",
   "execution_count": 3,
   "metadata": {
    "collapsed": true
   },
   "outputs": [],
   "source": [
    "pipe1 = make_pipeline(ColumnSelector(cols=(0, 2)),\n",
    "                      LogisticRegression())\n",
    "pipe2 = make_pipeline(ColumnSelector(cols=(1, 2, 3)),\n",
    "                      LogisticRegression())\n",
    "\n",
    "sclf = StackingCVClassifier(classifiers=[pipe1, pipe2], \n",
    "                            meta_classifier=LogisticRegression())"
   ]
  },
  {
   "cell_type": "code",
   "execution_count": 4,
   "metadata": {},
   "outputs": [
    {
     "data": {
      "text/plain": [
       "dict_keys(['pipeline-1', 'pipeline-2', 'pipeline-1__steps', 'pipeline-1__columnselector', 'pipeline-1__logisticregression', 'pipeline-1__columnselector__cols', 'pipeline-1__logisticregression__C', 'pipeline-1__logisticregression__class_weight', 'pipeline-1__logisticregression__dual', 'pipeline-1__logisticregression__fit_intercept', 'pipeline-1__logisticregression__intercept_scaling', 'pipeline-1__logisticregression__max_iter', 'pipeline-1__logisticregression__multi_class', 'pipeline-1__logisticregression__n_jobs', 'pipeline-1__logisticregression__penalty', 'pipeline-1__logisticregression__random_state', 'pipeline-1__logisticregression__solver', 'pipeline-1__logisticregression__tol', 'pipeline-1__logisticregression__verbose', 'pipeline-1__logisticregression__warm_start', 'pipeline-2__steps', 'pipeline-2__columnselector', 'pipeline-2__logisticregression', 'pipeline-2__columnselector__cols', 'pipeline-2__logisticregression__C', 'pipeline-2__logisticregression__class_weight', 'pipeline-2__logisticregression__dual', 'pipeline-2__logisticregression__fit_intercept', 'pipeline-2__logisticregression__intercept_scaling', 'pipeline-2__logisticregression__max_iter', 'pipeline-2__logisticregression__multi_class', 'pipeline-2__logisticregression__n_jobs', 'pipeline-2__logisticregression__penalty', 'pipeline-2__logisticregression__random_state', 'pipeline-2__logisticregression__solver', 'pipeline-2__logisticregression__tol', 'pipeline-2__logisticregression__verbose', 'pipeline-2__logisticregression__warm_start', 'meta-logisticregression', 'meta-logisticregression__C', 'meta-logisticregression__class_weight', 'meta-logisticregression__dual', 'meta-logisticregression__fit_intercept', 'meta-logisticregression__intercept_scaling', 'meta-logisticregression__max_iter', 'meta-logisticregression__multi_class', 'meta-logisticregression__n_jobs', 'meta-logisticregression__penalty', 'meta-logisticregression__random_state', 'meta-logisticregression__solver', 'meta-logisticregression__tol', 'meta-logisticregression__verbose', 'meta-logisticregression__warm_start'])"
      ]
     },
     "execution_count": 4,
     "metadata": {},
     "output_type": "execute_result"
    }
   ],
   "source": [
    "sclf.get_params().keys()"
   ]
  }
 ],
 "metadata": {
  "kernelspec": {
   "display_name": "Python 3",
   "language": "python",
   "name": "python3"
  },
  "language_info": {
   "codemirror_mode": {
    "name": "ipython",
    "version": 3
   },
   "file_extension": ".py",
   "mimetype": "text/x-python",
   "name": "python",
   "nbconvert_exporter": "python",
   "pygments_lexer": "ipython3",
   "version": "3.6.2"
  }
 },
 "nbformat": 4,
 "nbformat_minor": 2
}
