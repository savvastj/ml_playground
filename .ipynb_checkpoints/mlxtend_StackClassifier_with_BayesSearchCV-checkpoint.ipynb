{
 "cells": [
  {
   "cell_type": "code",
   "execution_count": 1,
   "metadata": {
    "collapsed": true
   },
   "outputs": [],
   "source": [
    "from skopt import BayesSearchCV\n",
    "from skopt.space import Real, Categorical, Integer\n",
    "\n",
    "from mlxtend.classifier import StackingCVClassifier\n",
    "\n",
    "from sklearn.datasets import load_iris\n",
    "from sklearn.pipeline import Pipeline\n",
    "from sklearn.linear_model import LogisticRegression\n",
    "from sklearn.ensemble import RandomForestClassifier\n",
    "from sklearn.neighbors import KNeighborsClassifier\n",
    "from sklearn.preprocessing import StandardScaler\n",
    "\n",
    "import numpy as np"
   ]
  },
  {
   "cell_type": "code",
   "execution_count": 2,
   "metadata": {
    "collapsed": true
   },
   "outputs": [],
   "source": [
    "iris = load_iris()\n",
    "X = iris.data\n",
    "y = iris.target"
   ]
  },
  {
   "cell_type": "code",
   "execution_count": 3,
   "metadata": {
    "collapsed": true
   },
   "outputs": [],
   "source": [
    "RANDOM_SEED = 2"
   ]
  },
  {
   "cell_type": "code",
   "execution_count": 4,
   "metadata": {},
   "outputs": [],
   "source": [
    "lr_pipe = Pipeline([('prep', StandardScaler()),\n",
    "                    ('lr', LogisticRegression())])\n",
    "knn_pipe = Pipeline([('prep', StandardScaler()),\n",
    "                     ('knn', KNeighborsClassifier())])\n",
    "rf = RandomForestClassifier(random_state=RANDOM_SEED)"
   ]
  },
  {
   "cell_type": "code",
   "execution_count": 5,
   "metadata": {
    "collapsed": true
   },
   "outputs": [],
   "source": [
    "sclf = StackingCVClassifier(classifiers=[lr_pipe, knn_pipe, rf], \n",
    "                            meta_classifier=LogisticRegression(random_state=RANDOM_SEED))"
   ]
  },
  {
   "cell_type": "code",
   "execution_count": 6,
   "metadata": {},
   "outputs": [
    {
     "data": {
      "text/plain": [
       "dict_keys(['pipeline-1', 'pipeline-2', 'randomforestclassifier', 'pipeline-1__steps', 'pipeline-1__prep', 'pipeline-1__lr', 'pipeline-1__prep__copy', 'pipeline-1__prep__with_mean', 'pipeline-1__prep__with_std', 'pipeline-1__lr__C', 'pipeline-1__lr__class_weight', 'pipeline-1__lr__dual', 'pipeline-1__lr__fit_intercept', 'pipeline-1__lr__intercept_scaling', 'pipeline-1__lr__max_iter', 'pipeline-1__lr__multi_class', 'pipeline-1__lr__n_jobs', 'pipeline-1__lr__penalty', 'pipeline-1__lr__random_state', 'pipeline-1__lr__solver', 'pipeline-1__lr__tol', 'pipeline-1__lr__verbose', 'pipeline-1__lr__warm_start', 'pipeline-2__steps', 'pipeline-2__prep', 'pipeline-2__knn', 'pipeline-2__prep__copy', 'pipeline-2__prep__with_mean', 'pipeline-2__prep__with_std', 'pipeline-2__knn__algorithm', 'pipeline-2__knn__leaf_size', 'pipeline-2__knn__metric', 'pipeline-2__knn__metric_params', 'pipeline-2__knn__n_jobs', 'pipeline-2__knn__n_neighbors', 'pipeline-2__knn__p', 'pipeline-2__knn__weights', 'randomforestclassifier__bootstrap', 'randomforestclassifier__class_weight', 'randomforestclassifier__criterion', 'randomforestclassifier__max_depth', 'randomforestclassifier__max_features', 'randomforestclassifier__max_leaf_nodes', 'randomforestclassifier__min_impurity_split', 'randomforestclassifier__min_samples_leaf', 'randomforestclassifier__min_samples_split', 'randomforestclassifier__min_weight_fraction_leaf', 'randomforestclassifier__n_estimators', 'randomforestclassifier__n_jobs', 'randomforestclassifier__oob_score', 'randomforestclassifier__random_state', 'randomforestclassifier__verbose', 'randomforestclassifier__warm_start', 'meta-logisticregression', 'meta-logisticregression__C', 'meta-logisticregression__class_weight', 'meta-logisticregression__dual', 'meta-logisticregression__fit_intercept', 'meta-logisticregression__intercept_scaling', 'meta-logisticregression__max_iter', 'meta-logisticregression__multi_class', 'meta-logisticregression__n_jobs', 'meta-logisticregression__penalty', 'meta-logisticregression__random_state', 'meta-logisticregression__solver', 'meta-logisticregression__tol', 'meta-logisticregression__verbose', 'meta-logisticregression__warm_start'])"
      ]
     },
     "execution_count": 6,
     "metadata": {},
     "output_type": "execute_result"
    }
   ],
   "source": [
    "sclf.get_params().keys()"
   ]
  },
  {
   "cell_type": "code",
   "execution_count": null,
   "metadata": {
    "collapsed": true
   },
   "outputs": [],
   "source": [
    "params = {'pipeline-1__lr__C': Real(1e-6, 1e6, prior='log-uniform'),\n",
    "          'pipeline-2__knn__n_neighbors': Integer(1, 20),\n",
    "          ''}"
   ]
  },
  {
   "cell_type": "code",
   "execution_count": null,
   "metadata": {
    "collapsed": true
   },
   "outputs": [],
   "source": [
    "pipe1 = make_pipeline(ColumnSelector(cols=(0, 2)),\n",
    "                      LogisticRegression())\n",
    "pipe2 = make_pipeline(ColumnSelector(cols=(1, 2, 3)),\n",
    "                      LogisticRegression())\n",
    "\n",
    "sclf = StackingCVClassifier(classifiers=[pipe1, pipe2], \n",
    "                            meta_classifier=LogisticRegression())"
   ]
  },
  {
   "cell_type": "code",
   "execution_count": 4,
   "metadata": {},
   "outputs": [
    {
     "data": {
      "text/plain": [
       "dict_keys(['pipeline-1', 'pipeline-2', 'pipeline-1__steps', 'pipeline-1__columnselector', 'pipeline-1__logisticregression', 'pipeline-1__columnselector__cols', 'pipeline-1__logisticregression__C', 'pipeline-1__logisticregression__class_weight', 'pipeline-1__logisticregression__dual', 'pipeline-1__logisticregression__fit_intercept', 'pipeline-1__logisticregression__intercept_scaling', 'pipeline-1__logisticregression__max_iter', 'pipeline-1__logisticregression__multi_class', 'pipeline-1__logisticregression__n_jobs', 'pipeline-1__logisticregression__penalty', 'pipeline-1__logisticregression__random_state', 'pipeline-1__logisticregression__solver', 'pipeline-1__logisticregression__tol', 'pipeline-1__logisticregression__verbose', 'pipeline-1__logisticregression__warm_start', 'pipeline-2__steps', 'pipeline-2__columnselector', 'pipeline-2__logisticregression', 'pipeline-2__columnselector__cols', 'pipeline-2__logisticregression__C', 'pipeline-2__logisticregression__class_weight', 'pipeline-2__logisticregression__dual', 'pipeline-2__logisticregression__fit_intercept', 'pipeline-2__logisticregression__intercept_scaling', 'pipeline-2__logisticregression__max_iter', 'pipeline-2__logisticregression__multi_class', 'pipeline-2__logisticregression__n_jobs', 'pipeline-2__logisticregression__penalty', 'pipeline-2__logisticregression__random_state', 'pipeline-2__logisticregression__solver', 'pipeline-2__logisticregression__tol', 'pipeline-2__logisticregression__verbose', 'pipeline-2__logisticregression__warm_start', 'meta-logisticregression', 'meta-logisticregression__C', 'meta-logisticregression__class_weight', 'meta-logisticregression__dual', 'meta-logisticregression__fit_intercept', 'meta-logisticregression__intercept_scaling', 'meta-logisticregression__max_iter', 'meta-logisticregression__multi_class', 'meta-logisticregression__n_jobs', 'meta-logisticregression__penalty', 'meta-logisticregression__random_state', 'meta-logisticregression__solver', 'meta-logisticregression__tol', 'meta-logisticregression__verbose', 'meta-logisticregression__warm_start'])"
      ]
     },
     "execution_count": 4,
     "metadata": {},
     "output_type": "execute_result"
    }
   ],
   "source": [
    "sclf.get_params().keys()"
   ]
  }
 ],
 "metadata": {
  "kernelspec": {
   "display_name": "Python 3",
   "language": "python",
   "name": "python3"
  },
  "language_info": {
   "codemirror_mode": {
    "name": "ipython",
    "version": 3
   },
   "file_extension": ".py",
   "mimetype": "text/x-python",
   "name": "python",
   "nbconvert_exporter": "python",
   "pygments_lexer": "ipython3",
   "version": "3.6.1"
  },
  "nav_menu": {},
  "toc": {
   "navigate_menu": true,
   "number_sections": false,
   "sideBar": false,
   "threshold": 6,
   "toc_cell": false,
   "toc_section_display": "block",
   "toc_window_display": false
  }
 },
 "nbformat": 4,
 "nbformat_minor": 2
}
